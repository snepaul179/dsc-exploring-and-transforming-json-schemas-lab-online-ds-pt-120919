{
 "cells": [
  {
   "cell_type": "markdown",
   "metadata": {},
   "source": [
    "# Exploring and Transforming JSON Schemas"
   ]
  },
  {
   "cell_type": "markdown",
   "metadata": {},
   "source": [
    "# Introduction\n",
    "\n",
    "In this lesson, you'll formalize how to explore a JSON file whose structure and schema is unknown to you. This often happens in practice when you are handed a file or stumble upon one with little documentation."
   ]
  },
  {
   "cell_type": "markdown",
   "metadata": {},
   "source": [
    "## Objectives\n",
    "You will be able to:\n",
    "* Use the JSON module to load and parse JSON documents\n",
    "* Load and explore unknown JSON schemas\n",
    "* Convert JSON to a pandas dataframe"
   ]
  },
  {
   "cell_type": "markdown",
   "metadata": {},
   "source": [
    "## Loading the JSON file\n",
    "\n",
    "Load the data from the file `disease_data.json`."
   ]
  },
  {
   "cell_type": "code",
   "execution_count": 2,
   "metadata": {},
   "outputs": [],
   "source": [
    "#Your code here \n",
    "import json\n",
    "file = open('disease_data.json', 'r')\n",
    "data = json.load(file)"
   ]
  },
  {
   "cell_type": "markdown",
   "metadata": {},
   "source": [
    "## Explore the first and second levels of the schema hierarchy"
   ]
  },
  {
   "cell_type": "code",
   "execution_count": 39,
   "metadata": {
    "scrolled": true
   },
   "outputs": [
    {
     "name": "stdout",
     "output_type": "stream",
     "text": [
      "<class 'dict'>\n",
      "<class 'dict'>\n"
     ]
    }
   ],
   "source": [
    "#Your code here\n",
    "print(type(data['meta']))\n",
    "print(type(data['meta']['view']))"
   ]
  },
  {
   "cell_type": "markdown",
   "metadata": {},
   "source": [
    "## Convert to a DataFrame\n",
    "\n",
    "Create a DataFrame from the JSON file. Be sure to retrive the column names for the dataframe. (Search within the 'meta' key of the master dictionary.) The DataFrame should include all 42 columns."
   ]
  },
  {
   "cell_type": "code",
   "execution_count": 81,
   "metadata": {},
   "outputs": [
    {
     "name": "stdout",
     "output_type": "stream",
     "text": [
      "                            0\n",
      "0                         sid\n",
      "1                          id\n",
      "2                    position\n",
      "3                  created_at\n",
      "4                created_meta\n",
      "5                  updated_at\n",
      "6                updated_meta\n",
      "7                        meta\n",
      "8                   YearStart\n",
      "9                     YearEnd\n",
      "10               LocationAbbr\n",
      "11               LocationDesc\n",
      "12                 DataSource\n",
      "13                      Topic\n",
      "14                   Question\n",
      "15                   Response\n",
      "16              DataValueUnit\n",
      "17              DataValueType\n",
      "18                  DataValue\n",
      "19               DataValueAlt\n",
      "20    DataValueFootnoteSymbol\n",
      "21          DatavalueFootnote\n",
      "22         LowConfidenceLimit\n",
      "23        HighConfidenceLimit\n",
      "24    StratificationCategory1\n",
      "25            Stratification1\n",
      "26    StratificationCategory2\n",
      "27            Stratification2\n",
      "28    StratificationCategory3\n",
      "29            Stratification3\n",
      "30                GeoLocation\n",
      "31                 ResponseID\n",
      "32                 LocationID\n",
      "33                    TopicID\n",
      "34                 QuestionID\n",
      "35            DataValueTypeID\n",
      "36  StratificationCategoryID1\n",
      "37          StratificationID1\n",
      "38  StratificationCategoryID2\n",
      "39          StratificationID2\n",
      "40  StratificationCategoryID3\n",
      "41          StratificationID3\n"
     ]
    },
    {
     "data": {
      "text/plain": [
       "Diabetes                                           9895\n",
       "Chronic Obstructive Pulmonary Disease              6960\n",
       "Overarching Conditions                             5589\n",
       "Arthritis                                          5220\n",
       "Tobacco                                            4730\n",
       "Asthma                                             4675\n",
       "Nutrition, Physical Activity, and Weight Status    4188\n",
       "Alcohol                                            4130\n",
       "Cardiovascular Disease                             3480\n",
       "Oral Health                                        3480\n",
       "Cancer                                             2495\n",
       "Older Adults                                       1740\n",
       "Mental Health                                      1195\n",
       "Immunization                                        870\n",
       "Chronic Kidney Disease                              870\n",
       "Disability                                          424\n",
       "Reproductive Health                                 325\n",
       "Name: Topic, dtype: int64"
      ]
     },
     "execution_count": 81,
     "metadata": {},
     "output_type": "execute_result"
    }
   ],
   "source": [
    "#Your code here\n",
    "import pandas as pd\n",
    "\n",
    "meta_column = data['meta']['view']['columns']\n",
    "column_name = []\n",
    "column_name_extra = []\n",
    "for name in meta_column:\n",
    "    if name['position'] == 0:\n",
    "        column_name_extra.append(name['name'])\n",
    "    else:\n",
    "        column_name_extra.append(name['name'])\n",
    "        column_name.append(name['name'])\n",
    "\n",
    "df = pd.DataFrame(data['data'], columns = column_name_extra)\n",
    "columns_name = pd.DataFrame(df.columns)\n",
    "print(columns_name)\n",
    "df['Topic'].value_counts()"
   ]
  },
  {
   "cell_type": "markdown",
   "metadata": {},
   "source": [
    "## Level-Up\n",
    "## Create a bar graph of states with the highest asthma rates for adults age 18+"
   ]
  },
  {
   "cell_type": "code",
   "execution_count": 92,
   "metadata": {},
   "outputs": [
    {
     "ename": "TypeError",
     "evalue": "You have to supply one of 'by' and 'level'",
     "output_type": "error",
     "traceback": [
      "\u001b[0;31m---------------------------------------------------------------------------\u001b[0m",
      "\u001b[0;31mTypeError\u001b[0m                                 Traceback (most recent call last)",
      "\u001b[0;32m<ipython-input-92-bd49cb1849b3>\u001b[0m in \u001b[0;36m<module>\u001b[0;34m\u001b[0m\n\u001b[0;32m----> 1\u001b[0;31m \u001b[0mdf\u001b[0m\u001b[0;34m[\u001b[0m\u001b[0;34m'Topic'\u001b[0m\u001b[0;34m]\u001b[0m\u001b[0;34m.\u001b[0m\u001b[0mgroupby\u001b[0m\u001b[0;34m(\u001b[0m\u001b[0;34m)\u001b[0m\u001b[0;34m\u001b[0m\u001b[0;34m\u001b[0m\u001b[0m\n\u001b[0m",
      "\u001b[0;32m/opt/anaconda3/envs/learn-env/lib/python3.6/site-packages/pandas/core/generic.py\u001b[0m in \u001b[0;36mgroupby\u001b[0;34m(self, by, axis, level, as_index, sort, group_keys, squeeze, observed, **kwargs)\u001b[0m\n\u001b[1;32m   7880\u001b[0m \u001b[0;34m\u001b[0m\u001b[0m\n\u001b[1;32m   7881\u001b[0m         \u001b[0;32mif\u001b[0m \u001b[0mlevel\u001b[0m \u001b[0;32mis\u001b[0m \u001b[0;32mNone\u001b[0m \u001b[0;32mand\u001b[0m \u001b[0mby\u001b[0m \u001b[0;32mis\u001b[0m \u001b[0;32mNone\u001b[0m\u001b[0;34m:\u001b[0m\u001b[0;34m\u001b[0m\u001b[0;34m\u001b[0m\u001b[0m\n\u001b[0;32m-> 7882\u001b[0;31m             \u001b[0;32mraise\u001b[0m \u001b[0mTypeError\u001b[0m\u001b[0;34m(\u001b[0m\u001b[0;34m\"You have to supply one of 'by' and 'level'\"\u001b[0m\u001b[0;34m)\u001b[0m\u001b[0;34m\u001b[0m\u001b[0;34m\u001b[0m\u001b[0m\n\u001b[0m\u001b[1;32m   7883\u001b[0m         \u001b[0maxis\u001b[0m \u001b[0;34m=\u001b[0m \u001b[0mself\u001b[0m\u001b[0;34m.\u001b[0m\u001b[0m_get_axis_number\u001b[0m\u001b[0;34m(\u001b[0m\u001b[0maxis\u001b[0m\u001b[0;34m)\u001b[0m\u001b[0;34m\u001b[0m\u001b[0;34m\u001b[0m\u001b[0m\n\u001b[1;32m   7884\u001b[0m         return groupby(\n",
      "\u001b[0;31mTypeError\u001b[0m: You have to supply one of 'by' and 'level'"
     ]
    }
   ],
   "source": [
    "\n",
    "df['Topic'].groupby()"
   ]
  },
  {
   "cell_type": "markdown",
   "metadata": {},
   "source": [
    "## Summary\n",
    "\n",
    "Well done! In this lab you got some extended practice exploring the structure of JSON files, converting json files to pandas DataFrame, and visualizing data!"
   ]
  }
 ],
 "metadata": {
  "kernelspec": {
   "display_name": "Python 3",
   "language": "python",
   "name": "python3"
  },
  "language_info": {
   "codemirror_mode": {
    "name": "ipython",
    "version": 3
   },
   "file_extension": ".py",
   "mimetype": "text/x-python",
   "name": "python",
   "nbconvert_exporter": "python",
   "pygments_lexer": "ipython3",
   "version": "3.6.9"
  },
  "toc": {
   "base_numbering": 1,
   "nav_menu": {},
   "number_sections": true,
   "sideBar": true,
   "skip_h1_title": false,
   "title_cell": "Table of Contents",
   "title_sidebar": "Contents",
   "toc_cell": false,
   "toc_position": {},
   "toc_section_display": true,
   "toc_window_display": false
  }
 },
 "nbformat": 4,
 "nbformat_minor": 2
}
